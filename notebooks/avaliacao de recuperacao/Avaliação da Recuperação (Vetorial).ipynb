{
 "cells": [
  {
   "cell_type": "markdown",
   "metadata": {},
   "source": [
    "# Avaliação da Recuperação (Vetorial)"
   ]
  },
  {
   "cell_type": "code",
   "execution_count": 1,
   "metadata": {},
   "outputs": [],
   "source": [
    "documentos = [2, 1, 4, 5, 3] # Resultados obtidos de exercícios anteriores"
   ]
  },
  {
   "cell_type": "code",
   "execution_count": 2,
   "metadata": {},
   "outputs": [],
   "source": [
    "relevantes = [1, 1, 0, 0, 0] # Resultados obtidos de exercícios anteriores"
   ]
  },
  {
   "cell_type": "code",
   "execution_count": 3,
   "metadata": {},
   "outputs": [
    {
     "name": "stdout",
     "output_type": "stream",
     "text": [
      "Precisão\n",
      "[1.0, 1.0]\n"
     ]
    }
   ],
   "source": [
    "print(\"Precisão\")\n",
    "precisao = []\n",
    "for idx, documento in enumerate(documentos):\n",
    "    if relevantes[idx]:\n",
    "        precisao.append(sum(relevantes[:idx+1])/len(documentos[:idx+1]))\n",
    "print(precisao)"
   ]
  },
  {
   "cell_type": "code",
   "execution_count": 4,
   "metadata": {},
   "outputs": [
    {
     "name": "stdout",
     "output_type": "stream",
     "text": [
      "Revocação\n",
      "[0.5, 1.0]\n"
     ]
    }
   ],
   "source": [
    "print(\"Revocação\")\n",
    "revocacao = []\n",
    "for idx, documento in enumerate(documentos):\n",
    "    if relevantes[idx]:\n",
    "        revocacao.append(sum(relevantes[:idx+1])/sum(relevantes))\n",
    "print(revocacao)"
   ]
  },
  {
   "cell_type": "code",
   "execution_count": 5,
   "metadata": {},
   "outputs": [
    {
     "name": "stdout",
     "output_type": "stream",
     "text": [
      "Precisão\n",
      "0.4\n"
     ]
    }
   ],
   "source": [
    "print(\"Precisão\")\n",
    "precisao_g = len([j for i, j in zip(documentos, relevantes) if j == 1])/len(documentos)\n",
    "print(precisao_g)"
   ]
  },
  {
   "cell_type": "code",
   "execution_count": 6,
   "metadata": {},
   "outputs": [
    {
     "name": "stdout",
     "output_type": "stream",
     "text": [
      "Revocação\n",
      "1.0\n"
     ]
    }
   ],
   "source": [
    "print(\"Revocação\")\n",
    "revocacao_g = len([j for i, j in zip(documentos, relevantes) if j == 1])/sum(relevantes)\n",
    "print(revocacao_g)"
   ]
  },
  {
   "cell_type": "code",
   "execution_count": 7,
   "metadata": {
    "scrolled": true
   },
   "outputs": [
    {
     "name": "stdout",
     "output_type": "stream",
     "text": [
      "F1\n",
      "0.5714285714285715\n"
     ]
    }
   ],
   "source": [
    "print(\"F1\")\n",
    "f1 = (2*precisao_g*revocacao_g)/(precisao_g+revocacao_g)\n",
    "print(f1)"
   ]
  },
  {
   "cell_type": "code",
   "execution_count": 8,
   "metadata": {},
   "outputs": [
    {
     "name": "stdout",
     "output_type": "stream",
     "text": [
      "Map\n",
      "1.0\n"
     ]
    }
   ],
   "source": [
    "print(\"Map\")\n",
    "map_ = (1/sum(relevantes))*sum(precisao[:sum(relevantes)])\n",
    "print(map_)"
   ]
  }
 ],
 "metadata": {
  "kernelspec": {
   "display_name": "Python 3",
   "language": "python",
   "name": "python3"
  },
  "language_info": {
   "codemirror_mode": {
    "name": "ipython",
    "version": 3
   },
   "file_extension": ".py",
   "mimetype": "text/x-python",
   "name": "python",
   "nbconvert_exporter": "python",
   "pygments_lexer": "ipython3",
   "version": "3.6.5"
  }
 },
 "nbformat": 4,
 "nbformat_minor": 2
}
