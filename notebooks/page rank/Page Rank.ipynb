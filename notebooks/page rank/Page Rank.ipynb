{
 "cells": [
  {
   "cell_type": "markdown",
   "metadata": {},
   "source": [
    "# Page Rank"
   ]
  },
  {
   "cell_type": "code",
   "execution_count": 1,
   "metadata": {},
   "outputs": [],
   "source": [
    "import numpy as np"
   ]
  },
  {
   "cell_type": "markdown",
   "metadata": {},
   "source": [
    "![Páginas](./pagerank01.png)"
   ]
  },
  {
   "cell_type": "markdown",
   "metadata": {},
   "source": [
    "Calculando matriz de transição **m** para **n** páginas. m é uma matriz nxn. \n",
    "\n",
    "O elemento $m_{ij}$ é calculado pela função $l(p_i,p_j)$. Onde:\n",
    "\n",
    "$l(p_i,p_j) = 0$, se não existe outlink de $p_j$ para $p_i$\n",
    "\n",
    "$l(p_i,p_j) = \\frac{1}{L(p_j)}$, se existem outlinks de $p_j$  para $p_i$. Sendo que $L(p_j)$ é o total de outlinks de $p_j$.\n"
   ]
  },
  {
   "cell_type": "code",
   "execution_count": 2,
   "metadata": {},
   "outputs": [],
   "source": [
    "m = np.matrix([[0, 0, 1, 0],\n",
    "               [1/2, 0, 0 , 0],\n",
    "               [1/2, 1, 0, 1],\n",
    "               [0, 0, 0, 0]])\n"
   ]
  },
  {
   "cell_type": "markdown",
   "metadata": {},
   "source": [
    "*Obs.:* $l$ está normalizada, ou seja, $\\sum_{i=1}^{n}l(p_i, p_j) = 1$."
   ]
  },
  {
   "cell_type": "code",
   "execution_count": 3,
   "metadata": {},
   "outputs": [],
   "source": [
    "total_de_paginas = len(m)"
   ]
  },
  {
   "cell_type": "markdown",
   "metadata": {},
   "source": [
    "## Calculo do page rank\n",
    "\n",
    "$PR(p_j) = \\frac{(1-\\beta)}{T} + \\beta \\sum_{n}^{i=1} \\frac{PR(p_i)}{L(p_i)}$\n",
    "\n"
   ]
  },
  {
   "cell_type": "markdown",
   "metadata": {},
   "source": [
    "Setando parâmetros iniciais"
   ]
  },
  {
   "cell_type": "code",
   "execution_count": 4,
   "metadata": {},
   "outputs": [],
   "source": [
    "threshold = 0.00001\n",
    "beta = 0.8"
   ]
  },
  {
   "cell_type": "code",
   "execution_count": 5,
   "metadata": {},
   "outputs": [],
   "source": [
    "E = np.full((total_de_paginas, total_de_paginas), 1/total_de_paginas)"
   ]
  },
  {
   "cell_type": "code",
   "execution_count": 6,
   "metadata": {},
   "outputs": [],
   "source": [
    "page_rank = np.full((total_de_paginas, 1), 1/total_de_paginas)"
   ]
  },
  {
   "cell_type": "code",
   "execution_count": 7,
   "metadata": {},
   "outputs": [],
   "source": [
    "page_rank_anterior = page_rank\n",
    "\n",
    "while True:\n",
    "    page_rank = (beta * m + ((1-beta) * E)) * page_rank\n",
    "    if np.abs(np.subtract(page_rank_anterior, page_rank)).max() < threshold:\n",
    "        break\n",
    "    page_rank_anterior = page_rank"
   ]
  },
  {
   "cell_type": "code",
   "execution_count": 8,
   "metadata": {},
   "outputs": [
    {
     "name": "stdout",
     "output_type": "stream",
     "text": [
      "[[ 0.36320882]\n",
      " [ 0.19528015]\n",
      " [ 0.39151103]\n",
      " [ 0.05      ]]\n"
     ]
    }
   ],
   "source": [
    "print(page_rank)"
   ]
  }
 ],
 "metadata": {
  "kernelspec": {
   "display_name": "Python 3",
   "language": "python",
   "name": "python3"
  },
  "language_info": {
   "codemirror_mode": {
    "name": "ipython",
    "version": 3
   },
   "file_extension": ".py",
   "mimetype": "text/x-python",
   "name": "python",
   "nbconvert_exporter": "python",
   "pygments_lexer": "ipython3",
   "version": "3.6.5"
  }
 },
 "nbformat": 4,
 "nbformat_minor": 2
}
