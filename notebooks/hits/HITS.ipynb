{
 "cells": [
  {
   "cell_type": "markdown",
   "metadata": {},
   "source": [
    "# Hypertext    Induced    Topic    Search (HITS) "
   ]
  },
  {
   "cell_type": "code",
   "execution_count": 1,
   "metadata": {},
   "outputs": [],
   "source": [
    "import numpy as np"
   ]
  },
  {
   "cell_type": "code",
   "execution_count": 2,
   "metadata": {},
   "outputs": [],
   "source": [
    "k = 650 # Número máximo de iterações"
   ]
  },
  {
   "cell_type": "code",
   "execution_count": 3,
   "metadata": {},
   "outputs": [],
   "source": [
    "m = np.array([[0, 0, 1, 0],\n",
    "              [1, 0, 0, 0],\n",
    "              [1, 1, 0, 1],\n",
    "              [0, 0, 0, 0]])\n",
    "\n",
    "z = np.ones(len(m))"
   ]
  },
  {
   "cell_type": "code",
   "execution_count": 4,
   "metadata": {},
   "outputs": [],
   "source": [
    "x = [z]\n",
    "y = [z]"
   ]
  },
  {
   "cell_type": "code",
   "execution_count": 5,
   "metadata": {},
   "outputs": [],
   "source": [
    "for i in range(k):\n",
    "    x.append(np.matmul(y[-1], m))\n",
    "    y.append(np.matmul(x[-1], m.transpose()))\n",
    "    x[-1] = x[-1]/np.linalg.norm(x[-1])\n",
    "    y[-1] = y[-1]/np.linalg.norm(y[-1])"
   ]
  },
  {
   "cell_type": "code",
   "execution_count": 6,
   "metadata": {},
   "outputs": [
    {
     "name": "stdout",
     "output_type": "stream",
     "text": [
      "[ 0.70710678  0.5         0.          0.5       ]\n",
      "[ 0.          0.38268343  0.92387953  0.        ]\n"
     ]
    }
   ],
   "source": [
    "print(x[-1])\n",
    "print(y[-1])"
   ]
  }
 ],
 "metadata": {
  "kernelspec": {
   "display_name": "Python 3",
   "language": "python",
   "name": "python3"
  },
  "language_info": {
   "codemirror_mode": {
    "name": "ipython",
    "version": 3
   },
   "file_extension": ".py",
   "mimetype": "text/x-python",
   "name": "python",
   "nbconvert_exporter": "python",
   "pygments_lexer": "ipython3",
   "version": "3.6.5"
  }
 },
 "nbformat": 4,
 "nbformat_minor": 2
}
